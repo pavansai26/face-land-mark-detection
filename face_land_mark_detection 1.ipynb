{
  "nbformat": 4,
  "nbformat_minor": 0,
  "metadata": {
    "colab": {
      "name": "face land mark detection.ipynb",
      "provenance": [],
      "private_outputs": true,
      "authorship_tag": "ABX9TyMMEN5ANlLra3xfDQtzYUfo",
      "include_colab_link": true
    },
    "kernelspec": {
      "name": "python3",
      "display_name": "Python 3"
    },
    "accelerator": "GPU"
  },
  "cells": [
    {
      "cell_type": "markdown",
      "metadata": {
        "id": "view-in-github",
        "colab_type": "text"
      },
      "source": [
        "<a href=\"https://colab.research.google.com/github/pavansai26/face-land-mark-detection/blob/master/face_land_mark_detection%201.ipynb\" target=\"_parent\"><img src=\"https://colab.research.google.com/assets/colab-badge.svg\" alt=\"Open In Colab\"/></a>"
      ]
    },
    {
      "cell_type": "code",
      "metadata": {
        "id": "99Q_H6OD7u3Q",
        "colab_type": "code",
        "colab": {}
      },
      "source": [
        "\n",
        "%tensorflow_version 2.x\n"
      ],
      "execution_count": 0,
      "outputs": []
    },
    {
      "cell_type": "code",
      "metadata": {
        "id": "t81qTAMm8Hjw",
        "colab_type": "code",
        "colab": {}
      },
      "source": [
        "\n",
        "import tensorflow as tf\n",
        "import numpy as np\n"
      ],
      "execution_count": 0,
      "outputs": []
    },
    {
      "cell_type": "code",
      "metadata": {
        "id": "QJ--qWuN8NYJ",
        "colab_type": "code",
        "colab": {}
      },
      "source": [
        "\n",
        "!wget https://github.com/shubham0204/Dataset_Archives/blob/master/face_landmarks_cleaned.zip?raw=true -O data.zip\n",
        "!unzip data.zip\n"
      ],
      "execution_count": 0,
      "outputs": []
    },
    {
      "cell_type": "code",
      "metadata": {
        "id": "h94xYUAA8TuZ",
        "colab_type": "code",
        "colab": {}
      },
      "source": [
        "\n",
        "x_train = np.load( \"face_landmarks_cleaned/x_train.npy\" ) / 255\n",
        "y_train = np.load( \"face_landmarks_cleaned/y_train.npy\" ) / 96\n",
        "x_test = np.load( \"face_landmarks_cleaned/x_test.npy\" ) / 255\n",
        "y_test = np.load( \"face_landmarks_cleaned/y_test.npy\" ) / 96\n",
        "\n",
        "y_train = np.reshape( y_train , ( -1 , 1 , 1 , 30 ))\n",
        "y_test = np.reshape( y_test , ( -1 , 1 , 1 , 30 ))\n"
      ],
      "execution_count": 0,
      "outputs": []
    },
    {
      "cell_type": "code",
      "metadata": {
        "id": "Zyd9nESm8lde",
        "colab_type": "code",
        "colab": {}
      },
      "source": [
        "print(x_train)"
      ],
      "execution_count": 0,
      "outputs": []
    },
    {
      "cell_type": "code",
      "metadata": {
        "id": "7nOM3uRw8qLC",
        "colab_type": "code",
        "colab": {}
      },
      "source": [
        "\n",
        "model_layers = [ \n",
        "    tf.keras.layers.Conv2D( 128 , input_shape=( 96 , 96 , 1 ) , kernel_size=( 5 , 5 ) , strides=1 , activation='relu' ),\n",
        "    tf.keras.layers.Conv2D( 128 , kernel_size=( 5 , 5 ) , strides=1 , activation='relu' ),\n",
        "    tf.keras.layers.BatchNormalization(),\n",
        "\n",
        "    tf.keras.layers.Conv2D( 128 , kernel_size=( 5 , 5 ) , strides=1 , activation='relu' ),\n",
        "    tf.keras.layers.Conv2D( 128 , kernel_size=( 5 , 5 ) , strides=1 , activation='relu' ),\n",
        "    #tf.keras.layers.BatchNormalization(),\n",
        "\n",
        "    tf.keras.layers.Conv2D( 128 , kernel_size=( 5 , 5 ) , strides=1 , activation='relu' ),\n",
        "    tf.keras.layers.Conv2D( 128 , kernel_size=( 5 , 5 ) , strides=1 , activation='relu' ),\n",
        "    tf.keras.layers.BatchNormalization(),\n",
        "\n",
        "    tf.keras.layers.Conv2D( 128 , kernel_size=( 5 , 5 ) , strides=1 , activation='relu' ),\n",
        "    tf.keras.layers.Conv2D( 128 , kernel_size=( 5 , 5 ) , strides=1 , activation='relu' ),\n",
        "    #tf.keras.layers.BatchNormalization(),\n",
        "\n",
        "    tf.keras.layers.Conv2D( 128 , kernel_size=( 5 , 5 ) , strides=1 , activation='relu' ),\n",
        "    tf.keras.layers.Conv2D( 128 , kernel_size=( 5 , 5 ) , strides=1 , activation='relu' ),\n",
        "    tf.keras.layers.BatchNormalization(),\n",
        "\n",
        "    tf.keras.layers.Conv2D( 64 , kernel_size=( 5 , 5 ) , strides=1 , activation='relu' ),\n",
        "    tf.keras.layers.Conv2D( 64 , kernel_size=( 5 , 5 ) , strides=1 , activation='relu' ),\n",
        "    #tf.keras.layers.BatchNormalization(),\n",
        "\n",
        "    tf.keras.layers.Conv2D( 64 , kernel_size=( 5 , 5 ) , strides=1 , activation='relu' ),\n",
        "    tf.keras.layers.Conv2D( 64 , kernel_size=( 5 , 5 ) , strides=1 , activation='relu' ),\n",
        "    tf.keras.layers.BatchNormalization(),\n",
        "\n",
        "    tf.keras.layers.Conv2D( 64 , kernel_size=( 3 , 3 ) , strides=1 , activation='relu' ),\n",
        "    tf.keras.layers.Conv2D( 64 , kernel_size=( 3 , 3 ) , strides=1 , activation='relu' ),\n",
        "    #tf.keras.layers.BatchNormalization(),\n",
        "\n",
        "    tf.keras.layers.Conv2D( 64 , kernel_size=( 3 , 3 ) , strides=1 , activation='relu' ),\n",
        "    tf.keras.layers.Conv2D( 64 , kernel_size=( 3 , 3 ) , strides=1 , activation='relu' ),\n",
        "    tf.keras.layers.BatchNormalization(),\n",
        "\n",
        "    tf.keras.layers.Conv2D( 64 , kernel_size=( 3 , 3 ) , strides=1 , activation='relu' ),\n",
        "    tf.keras.layers.Conv2D( 64 , kernel_size=( 3 , 3 ) , strides=1 , activation='relu' ),\n",
        "    #tf.keras.layers.BatchNormalization(),\n",
        "\n",
        "    tf.keras.layers.Conv2D( 32 , kernel_size=( 3 , 3 ) , strides=1 , activation='relu' ),\n",
        "    tf.keras.layers.Conv2D( 32 , kernel_size=( 3 , 3 ) , strides=1 , activation='relu' ),\n",
        "    tf.keras.layers.BatchNormalization(),\n",
        "\n",
        "    tf.keras.layers.Conv2D( 32 , kernel_size=( 3 , 3 ) , strides=1 , activation='relu' ),\n",
        "    tf.keras.layers.Conv2D( 32 , kernel_size=( 3 , 3 ) , strides=1 , activation='relu' ),\n",
        "    #tf.keras.layers.BatchNormalization(),\n",
        "\n",
        "    tf.keras.layers.Conv2D( 32 , kernel_size=( 3 , 3 ) , strides=1 , activation='relu' ),\n",
        "    tf.keras.layers.Conv2D( 32 , kernel_size=( 3 , 3 ) , strides=1 , activation='relu' ),\n",
        "    tf.keras.layers.BatchNormalization(),\n",
        "\n",
        "    tf.keras.layers.Conv2D( 32 , kernel_size=( 3 , 3 ) , strides=1 , activation='relu' ),\n",
        "    tf.keras.layers.Conv2D( 32 , kernel_size=( 3 , 3 ) , strides=1 , activation='relu' ),\n",
        "    #tf.keras.layers.BatchNormalization(),\n",
        "\n",
        "    tf.keras.layers.Conv2D( 32 , kernel_size=( 3 , 3 ) , strides=1 , activation='relu' ),\n",
        "    tf.keras.layers.Conv2D( 32 , kernel_size=( 3 , 3 ) , strides=1 , activation='relu' ),\n",
        "    tf.keras.layers.BatchNormalization(),\n",
        "    \n",
        "    tf.keras.layers.Conv2D( 32 , kernel_size=( 3 , 3 ) , strides=1 , activation='relu' ),\n",
        "    tf.keras.layers.Conv2D( 32 , kernel_size=( 2 , 2 ) , strides=1 , activation='relu' ),\n",
        "    #tf.keras.layers.BatchNormalization(),\n",
        "\n",
        "    tf.keras.layers.Conv2D( 30 , kernel_size=( 2 , 2 ) , strides=1 , activation='relu' ),\n",
        "    tf.keras.layers.Conv2D( 30 , kernel_size=( 2 , 2 ) , strides=1 , activation='relu' ),\n",
        "    tf.keras.layers.Conv2D( 30 , kernel_size=( 2 , 2 ) , strides=1 , activation='relu' ),\n",
        "    tf.keras.layers.Conv2D( 30 , kernel_size=( 2 , 2 ) , strides=1 , activation='sigmoid' ),\n",
        "\n",
        "]\n",
        "model = tf.keras.Sequential( model_layers )\n",
        "model.compile( loss=tf.keras.losses.mean_squared_error , optimizer=tf.keras.optimizers.Adam( lr=0.0001 ) , metrics=[ 'mse' ] )\n",
        "model.summary()\n"
      ],
      "execution_count": 0,
      "outputs": []
    },
    {
      "cell_type": "code",
      "metadata": {
        "id": "qF9SWaxe81kf",
        "colab_type": "code",
        "colab": {}
      },
      "source": [
        "\n",
        "model.fit( x_train , y_train , epochs=50 , batch_size=50 , validation_data=( x_test , y_test ) )\n"
      ],
      "execution_count": 0,
      "outputs": []
    },
    {
      "cell_type": "code",
      "metadata": {
        "id": "rt75UiH88-Js",
        "colab_type": "code",
        "colab": {}
      },
      "source": [
        "\n",
        "import matplotlib.pyplot as plt\n",
        "\n",
        "fig = plt.figure(figsize=( 50 , 50 ))\n",
        "\n",
        "for i in range( 1 , 6 ):\n",
        "    sample_image = np.reshape( x_test[i] * 255  , ( 96 , 96 ) ).astype( np.uint8 )\n",
        "    pred = model.predict( x_test[ i : i +1  ] ) * 96\n",
        "    pred = pred.astype( np.int32 )\n",
        "    pred = np.reshape( pred[0 , 0 , 0 ] , ( 15 , 2 ) )\n",
        "    fig.add_subplot( 1 , 10 , i )\n",
        "    plt.imshow( sample_image.T , cmap='gray' )\n",
        "    plt.scatter( pred[ : , 0 ] , pred[ : , 1 ] , c='yellow' )\n",
        "    \n",
        "plt.show()\n"
      ],
      "execution_count": 0,
      "outputs": []
    },
    {
      "cell_type": "markdown",
      "metadata": {
        "id": "lQb4ATitGQcs",
        "colab_type": "text"
      },
      "source": [
        "We'll use this Colab snippet to take a picture from a webcam in your PC. Run the cell below first"
      ]
    },
    {
      "cell_type": "code",
      "metadata": {
        "id": "xOX1pEohC0EI",
        "colab_type": "code",
        "colab": {}
      },
      "source": [
        "\n",
        "from IPython.display import display, Javascript\n",
        "from google.colab.output import eval_js\n",
        "from base64 import b64decode\n",
        "\n",
        "def take_photo(filename='photo.jpg', quality=0.8):\n",
        "  js = Javascript('''\n",
        "    async function takePhoto(quality) {\n",
        "      const div = document.createElement('div');\n",
        "      const capture = document.createElement('button');\n",
        "      capture.textContent = 'Capture';\n",
        "      div.appendChild(capture);\n",
        "\n",
        "      const video = document.createElement('video');\n",
        "      video.style.display = 'block';\n",
        "      const stream = await navigator.mediaDevices.getUserMedia({video: true});\n",
        "\n",
        "      document.body.appendChild(div);\n",
        "      div.appendChild(video);\n",
        "      video.srcObject = stream;\n",
        "      await video.play();\n",
        "\n",
        "      // Resize the output to fit the video element.\n",
        "      google.colab.output.setIframeHeight(document.documentElement.scrollHeight, true);\n",
        "\n",
        "      // Wait for Capture to be clicked.\n",
        "      await new Promise((resolve) => capture.onclick = resolve);\n",
        "\n",
        "      const canvas = document.createElement('canvas');\n",
        "      canvas.width = video.videoWidth;\n",
        "      canvas.height = video.videoHeight;\n",
        "      canvas.getContext('2d').drawImage(video, 0, 0);\n",
        "      stream.getVideoTracks()[0].stop();\n",
        "      div.remove();\n",
        "      return canvas.toDataURL('image/jpeg', quality);\n",
        "    }\n",
        "    ''')\n",
        "  display(js)\n",
        "  data = eval_js('takePhoto({})'.format(quality))\n",
        "  binary = b64decode(data.split(',')[1])\n",
        "  with open(filename, 'wb') as f:\n",
        "    f.write(binary)\n",
        "  return filename\n"
      ],
      "execution_count": 0,
      "outputs": []
    },
    {
      "cell_type": "markdown",
      "metadata": {
        "id": "JkV1g4AGGXU1",
        "colab_type": "text"
      },
      "source": [
        "Run this code cell. You'll see a camera preview and a \"Capture\" button. Once you take a picture, it will be saved as photo.jpg."
      ]
    },
    {
      "cell_type": "code",
      "metadata": {
        "id": "_Vj32PWkGI3A",
        "colab_type": "code",
        "colab": {}
      },
      "source": [
        "\n",
        "from IPython.display import Image\n",
        "try:\n",
        "  filename = take_photo()\n",
        "  print('Saved to {}'.format(filename))\n",
        "  \n",
        "  # Show the image which was just taken.\n",
        "  display(Image(filename))\n",
        "except Exception as err:\n",
        "  # Errors will be thrown if the user does not have a webcam or if they do not\n",
        "  # grant the page permission to access it.\n",
        "  print(str(err))\n"
      ],
      "execution_count": 0,
      "outputs": []
    },
    {
      "cell_type": "markdown",
      "metadata": {
        "id": "dhPBm208Gmqz",
        "colab_type": "text"
      },
      "source": [
        "We'll read the photo.jpg, resize it ( 96 , 96 ) and feed it to our model. The predictions will then be plotted on the image."
      ]
    },
    {
      "cell_type": "code",
      "metadata": {
        "id": "3Pc09g1TGJLc",
        "colab_type": "code",
        "colab": {}
      },
      "source": [
        "\n",
        "from PIL import Image\n",
        "import matplotlib.pyplot as plt\n",
        "\n",
        "image = Image.open( \"photo.jpg\").convert('L').resize( ( 96 , 96 ) ).rotate( 90 )\n",
        "image_arr = np.asarray( image ) / 255\n",
        "\n",
        "pred = model.predict( np.array( [ image_arr.reshape( 96 , 96 , 1 ) ] ) ) * 96\n",
        "pred = pred.astype( np.int32 )\n",
        "pred = np.reshape( pred[0 , 0 , 0 ] , ( 15 , 2 ) )\n",
        "\n",
        "plt.imshow( image_arr.T , cmap='gray' )\n",
        "plt.scatter( pred[ : , 0 ] , pred[ : , 1 ] , c='yellow' )\n",
        "plt.show()\n"
      ],
      "execution_count": 0,
      "outputs": []
    },
    {
      "cell_type": "markdown",
      "metadata": {
        "id": "PZq-OwfBGwkI",
        "colab_type": "text"
      },
      "source": [
        "You may convert the Keras model to a TensorFlow Lite model."
      ]
    },
    {
      "cell_type": "code",
      "metadata": {
        "id": "_esJJSlXGJcK",
        "colab_type": "code",
        "colab": {}
      },
      "source": [
        "\n",
        "converter = tf.lite.TFLiteConverter.from_keras_model( model )\n",
        "converter.optimizations = [tf.lite.Optimize.OPTIMIZE_FOR_LATENCY ]\n",
        "buffer = converter.convert()\n",
        "open( 'model.tflite' , 'wb' ).write( buffer )\n",
        "\n",
        "interpreter = tf.lite.Interpreter(model_path=\"model.tflite\")\n",
        "interpreter.allocate_tensors()\n",
        "\n",
        "# Print input shape and type\n",
        "print(interpreter.get_input_details()[0]['shape'])\n",
        "print(interpreter.get_input_details()[0]['dtype'])\n",
        "\n",
        "# Print output shape and type\n",
        "print(interpreter.get_output_details()[0]['shape'])\n",
        "print(interpreter.get_output_details()[0]['dtype'])\n"
      ],
      "execution_count": 0,
      "outputs": []
    },
    {
      "cell_type": "markdown",
      "metadata": {
        "id": "T9KCPRKjIXsp",
        "colab_type": "text"
      },
      "source": [
        "In this notebook, we'll develop a model which marks 15 keypoints on a given image of a human face. We'll build a Convolutional Neural Network which takes an image and returns a array of 15 keypoints.\n",
        "\n",
        "We'll require a GPU Hardware accelerator for training the model. Change the runtime type to GPU by going to Tools > Change Runtime Type > Hardware Accelerator > GPU."
      ]
    },
    {
      "cell_type": "code",
      "metadata": {
        "id": "Reid56PUIWOo",
        "colab_type": "code",
        "colab": {}
      },
      "source": [
        ""
      ],
      "execution_count": 0,
      "outputs": []
    },
    {
      "cell_type": "code",
      "metadata": {
        "id": "aUh9GbpKGJZF",
        "colab_type": "code",
        "colab": {}
      },
      "source": [
        ""
      ],
      "execution_count": 0,
      "outputs": []
    },
    {
      "cell_type": "code",
      "metadata": {
        "id": "CE-8QvpxGJTr",
        "colab_type": "code",
        "colab": {}
      },
      "source": [
        ""
      ],
      "execution_count": 0,
      "outputs": []
    }
  ]
}